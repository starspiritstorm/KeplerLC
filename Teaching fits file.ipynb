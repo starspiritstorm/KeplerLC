{
 "cells": [
  {
   "cell_type": "code",
   "execution_count": null,
   "metadata": {
    "collapsed": false
   },
   "outputs": [],
   "source": [
    "#---------------------------\n",
    "#\n",
    "#---------------------------\n",
    "\n",
    "import pyfits, os\n",
    "\n",
    "##1 Read filename .fits\n",
    "os.chdir(\"D:\\starspiritstorm\\Course\\Meeting\\Kepler\\Kepler Revised Teff to 3800\\Hyperflare\\kplr009726699_SC\") # Change Directory\n",
    "nowpath = os.getcwd()\n",
    "#print nowpath\n",
    "\n",
    "data=pyfits.open(\"kplr009726699-2010203174610_slc.fits\")\n",
    "#print data.info()\n",
    "\n",
    "time=data[1].data.field('TIME')\n",
    "sap_flux=data[1].data.field('SAP_FLUX')\n",
    "sap_flux_err=data[1].data.field('SAP_FLUX_ERR')\n",
    "pdcsap_flux=data[1].data.field('PDCSAP_FLUX')\n",
    "pdcsap_flux_err=data[1].data.field('PDCSAP_FLUX_ERR')\n",
    "lc=zip(time,sap_flux,sap_flux_err,pdcsap_flux,pdcsap_flux_err)\n",
    "#print lc\n",
    "\n",
    "output_file = 'kplr009726699-2010203174610_slc.fits.lcc'\n",
    "out = open(output_file,'w')\n",
    "for i in lc:\n",
    "    write = '%s %s %s %s %s' %(i[0],i[1],i[2],i[3],i[4])\n",
    "    out.write(write+'\\n')\n",
    "out.close()\n",
    "\n"
   ]
  },
  {
   "cell_type": "code",
   "execution_count": null,
   "metadata": {
    "collapsed": true
   },
   "outputs": [],
   "source": []
  }
 ],
 "metadata": {
  "anaconda-cloud": {},
  "kernelspec": {
   "display_name": "Python [conda root]",
   "language": "python",
   "name": "conda-root-py"
  },
  "language_info": {
   "codemirror_mode": {
    "name": "ipython",
    "version": 2
   },
   "file_extension": ".py",
   "mimetype": "text/x-python",
   "name": "python",
   "nbconvert_exporter": "python",
   "pygments_lexer": "ipython2",
   "version": "2.7.12"
  }
 },
 "nbformat": 4,
 "nbformat_minor": 1
}
