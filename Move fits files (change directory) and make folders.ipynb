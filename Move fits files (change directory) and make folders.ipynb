{
 "cells": [
  {
   "cell_type": "code",
   "execution_count": 1,
   "metadata": {
    "collapsed": false
   },
   "outputs": [],
   "source": [
    "#Name_List\n",
    "import os\n",
    "\n",
    "#1 Read filename of .fits\n",
    "os.chdir(\"D:\\starspiritstorm\\Course\\Meeting\\Kepler\\Kepler Revised Teff between 3800 to 3900\\LC\") # Change Directory\n",
    "nowpath = os.getcwd()\n",
    "filenamelist = filter(lambda x: x.endswith('.fits'), os.listdir(nowpath))\n",
    "\n",
    "#2 Write Raw data file into txt list (.fits)\n",
    "writelist = [ i +'\\n' for i in filenamelist]\n",
    "\n",
    "with open('Fits_filename_list.txt','w') as f:\n",
    "    map( f.write , writelist)\n",
    "    \n",
    "#3 \n",
    "writelist = [ i[0:13] +'\\n' for i in filenamelist]\n",
    "\n",
    "with open('Folder_making_list.txt','w') as f:\n",
    "    map( f.write , writelist)"
   ]
  },
  {
   "cell_type": "code",
   "execution_count": 2,
   "metadata": {
    "collapsed": false,
    "scrolled": true
   },
   "outputs": [
    {
     "name": "stderr",
     "output_type": "stream",
     "text": [
      "D:\\Anaconda2\\lib\\site-packages\\ipykernel\\__main__.py:36: SettingWithCopyWarning: \n",
      "A value is trying to be set on a copy of a slice from a DataFrame\n",
      "\n",
      "See the caveats in the documentation: http://pandas.pydata.org/pandas-docs/stable/indexing.html#indexing-view-versus-copy\n",
      "D:\\Anaconda2\\lib\\site-packages\\ipykernel\\__main__.py:44: SettingWithCopyWarning: \n",
      "A value is trying to be set on a copy of a slice from a DataFrame\n",
      "\n",
      "See the caveats in the documentation: http://pandas.pydata.org/pandas-docs/stable/indexing.html#indexing-view-versus-copy\n"
     ]
    }
   ],
   "source": [
    "#MakeFolder\n",
    "import os,csv\n",
    "import pandas as pd\n",
    "import numpy as np\n",
    "\n",
    "#1 Read filename .fits\n",
    "os.chdir(\"D:\\starspiritstorm\\Course\\Meeting\\Kepler\\Kepler Revised Teff between 3800 to 3900\\LC\") # Change Directory\n",
    "\n",
    "#write quarters into csv file\n",
    "Parameter_file = 'Kepler K dwarf list Teff less than 3900.csv'\n",
    "Parameter_data = pd.read_csv(Parameter_file)\n",
    "df = pd.DataFrame(Parameter_data)\n",
    "\n",
    "#Readlines\n",
    "Folder = 'Folder_making_list.txt' \n",
    "Folder_list = file(Folder).readlines()\n",
    "\n",
    "#Counting quarters by using how many fits files\n",
    "Q_count = 0\n",
    "Quarter = []\n",
    "name = 'kplr001569682\\n'\n",
    "for i in Folder_list:\n",
    "    \n",
    "    #check KID\n",
    "    check_KID = ''\n",
    "    if i[5] == '0':\n",
    "        check_KID = i[6:13]\n",
    "    if i[5] != '0':\n",
    "        check_KID = i[5:13]\n",
    "    \n",
    "    #write quarters into csv\n",
    "    if name == i:\n",
    "        Q_count = Q_count + 1\n",
    "        for j in range(len(Parameter_data['KIC'])):\n",
    "            if str(Parameter_data['KIC'][j]) == str(check_KID):\n",
    "                Parameter_data['Quarter'][j] = Q_count\n",
    "    if name != i:\n",
    "        Quarter.append(Q_count)\n",
    "        #if not os.path.exists(i.replace('\\n','') + '_' + str(Q_count)):\n",
    "        os.makedirs(name.replace('\\n','') + '_Q' + str(Q_count))\n",
    "        Q_count = 1\n",
    "        for j in range(len(Parameter_data['KIC'])):\n",
    "            if str(Parameter_data['KIC'][j]) == str(check_KID):\n",
    "                Parameter_data['Quarter'][j] = Q_count\n",
    "    name = i\n",
    "\n",
    "df.to_csv('Kepler K dwarf list Teff less than 3900 Quarter_counted.csv')\n",
    "\n",
    "    \n",
    "#if not os.path.exists(i.replace('\\n','') + '_' + str(Q_count)):\n",
    "Quarter.append(Q_count)\n",
    "os.makedirs(i.replace('\\n','') + '_Q' + str(Q_count))\n",
    "\n",
    "\n",
    "#writelist = [ str(i) +'\\n' for i in Quarter]\n",
    "#with open('Quarter.txt','w') as f:\n",
    "#    map( f.write , writelist)"
   ]
  },
  {
   "cell_type": "code",
   "execution_count": 3,
   "metadata": {
    "collapsed": false
   },
   "outputs": [],
   "source": [
    "import os\n",
    "\n",
    "#1 Read filename .fits\n",
    "os.chdir(\"D:\\starspiritstorm\\Course\\Meeting\\Kepler\\Kepler Revised Teff between 3800 to 3900\\LC\") # Change Directory\n",
    "nowpath = os.getcwd()\n",
    "filenamelist = filter(lambda x: x.endswith('_Q',1,15), os.listdir(nowpath))\n",
    "\n",
    "#1.5 Write Raw data file into txt list (.fits)\n",
    "writelist = [ i +'\\n' for i in filenamelist]\n",
    "\n",
    "with open('Folder_list.txt','w') as f:\n",
    "    map( f.write , writelist)\n",
    "    \n"
   ]
  },
  {
   "cell_type": "code",
   "execution_count": 4,
   "metadata": {
    "collapsed": false
   },
   "outputs": [],
   "source": [
    "#Movefile\n",
    "import os\n",
    "\n",
    "#1 Read filename .fits\n",
    "os.chdir(\"D:\\starspiritstorm\\Course\\Meeting\\Kepler\\Kepler Revised Teff between 3800 to 3900\\LC\") # Change Directory\n",
    "\n",
    "Folder = 'Folder_list.txt' \n",
    "Folder_list = file(Folder).readlines()\n",
    "\n",
    "FileName = 'Fits_filename_list.txt' \n",
    "FileName_list = file(FileName).readlines()\n",
    "\n",
    "Folder = [ i for i in Folder_list]\n",
    "File = [ i for i in FileName_list]\n",
    "\n",
    "for i in range(len(File)):\n",
    "    for j in range(len(Folder)):\n",
    "        if File[i][0:13] == Folder[j][0:13]:\n",
    "            os.rename(\"D:\\starspiritstorm\\Course\\Meeting\\Kepler\\Kepler Revised Teff between 3800 to 3900\\LC\\%s\"%File[i].replace('\\n',''), \"D:\\starspiritstorm\\Course\\Meeting\\Kepler\\Kepler Revised Teff between 3800 to 3900\\LC\\%s\\%s\"%(Folder[j].replace('\\n',''),File[i].replace('\\n','')))\n"
   ]
  },
  {
   "cell_type": "code",
   "execution_count": null,
   "metadata": {
    "collapsed": true
   },
   "outputs": [],
   "source": []
  }
 ],
 "metadata": {
  "anaconda-cloud": {},
  "kernelspec": {
   "display_name": "Python [conda root]",
   "language": "python",
   "name": "conda-root-py"
  },
  "language_info": {
   "codemirror_mode": {
    "name": "ipython",
    "version": 2
   },
   "file_extension": ".py",
   "mimetype": "text/x-python",
   "name": "python",
   "nbconvert_exporter": "python",
   "pygments_lexer": "ipython2",
   "version": "2.7.12"
  }
 },
 "nbformat": 4,
 "nbformat_minor": 1
}
