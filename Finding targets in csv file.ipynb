{
 "cells": [
  {
   "cell_type": "code",
   "execution_count": 4,
   "metadata": {
    "collapsed": false
   },
   "outputs": [
    {
     "name": "stdout",
     "output_type": "stream",
     "text": [
      "9726699\n",
      "L = 2.32866426566e+30 erg/s\n",
      "L = 2.32866426566e+30 erg/s\n"
     ]
    }
   ],
   "source": [
    "import os\n",
    "import numpy  as np\n",
    "import pandas as pd\n",
    "\n",
    "os.chdir(\"D:\\starspiritstorm\\LAMOST_Kepler\") # Change Directory\n",
    "\n",
    "#loading tables with Teff and Radius\n",
    "Parameter_file = 'Kepler M dwarf flare list 20161012.csv'\n",
    "Parameter_data = pd.read_csv(Parameter_file)\n",
    "\n",
    "KID = 'kplr009726699_Q15'\n",
    "os.chdir(\"D:\\starspiritstorm\\Course\\Meeting\\Kepler\\Kepler Revised Teff to 3800\\Hyperflare\\%s\"%KID) # Change Directory\n",
    "\n",
    "#because there are 7 numbers and 8 numbers of Kepler ID, so we need to check the KID length\n",
    "check_KID = ''\n",
    "if KID[5] == '0':\n",
    "    check_KID = KID[6:13]\n",
    "if KID[5] != '0':\n",
    "    check_KID = KID[5:13]\n",
    "\n",
    "print check_KID\n",
    "\n",
    "for i in range(len(Parameter_data['KIC'])):\n",
    "    if str(Parameter_data['KIC'][i]) == str(check_KID):\n",
    "        Teff = Parameter_data['Teff'][i]\n",
    "        Radius = Parameter_data['R'][i]\n",
    "\n",
    "T = Teff\n",
    "Rsun = 6.96*10**8\n",
    "sigma = 5.67*10**-8\n",
    "R = Radius\n",
    "L = (4.0*np.pi*(R*Rsun)**2*sigma*T**4)*10**7\n",
    "\n",
    "print 'L = %s erg/s'%L\n",
    "print 'L =', L, 'erg/s'\n"
   ]
  },
  {
   "cell_type": "code",
   "execution_count": null,
   "metadata": {
    "collapsed": true
   },
   "outputs": [],
   "source": []
  }
 ],
 "metadata": {
  "kernelspec": {
   "display_name": "Python [default]",
   "language": "python",
   "name": "python2"
  },
  "language_info": {
   "codemirror_mode": {
    "name": "ipython",
    "version": 2
   },
   "file_extension": ".py",
   "mimetype": "text/x-python",
   "name": "python",
   "nbconvert_exporter": "python",
   "pygments_lexer": "ipython2",
   "version": "2.7.12"
  }
 },
 "nbformat": 4,
 "nbformat_minor": 1
}
