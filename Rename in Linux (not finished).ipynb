{
 "cells": [
  {
   "cell_type": "code",
   "execution_count": null,
   "metadata": {
    "collapsed": true
   },
   "outputs": [],
   "source": [
    "#Rename\n",
    "import os\n",
    "import numpy as np\n",
    "\n",
    "os.chdir(\"C:\\Course\\Meeting\\Kepler\\Correct\") # Change Directory\n",
    "path = os.getcwd()\n",
    "\n",
    "Kepler = 'KID.txt' \n",
    "LC_file = file(Kepler).readlines()\n",
    "\n",
    "for i in LC_file:\n",
    "    fold = i.replace('\\n','')\n",
    "    changedir = path + '\\%s'%fold\n",
    "    \n",
    "#     os.chdir(changedir)\n",
    "    \n",
    "    filenamelist = filter(lambda x: x.endswith('.fits'), os.listdir(changedir))\n",
    "     \n",
    "    print 'mv ' + i.replace('\\n',' ') + i.replace('\\n','') + '_Q' + str(len(filenamelist)) + ''\n"
   ]
  }
 ],
 "metadata": {
  "kernelspec": {
   "display_name": "Python [conda root]",
   "language": "python",
   "name": "conda-root-py"
  },
  "language_info": {
   "codemirror_mode": {
    "name": "ipython",
    "version": 2
   },
   "file_extension": ".py",
   "mimetype": "text/x-python",
   "name": "python",
   "nbconvert_exporter": "python",
   "pygments_lexer": "ipython2",
   "version": "2.7.12"
  }
 },
 "nbformat": 4,
 "nbformat_minor": 1
}
