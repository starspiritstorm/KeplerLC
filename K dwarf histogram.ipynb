{
 "cells": [
  {
   "cell_type": "code",
   "execution_count": 23,
   "metadata": {
    "collapsed": false
   },
   "outputs": [
    {
     "name": "stdout",
     "output_type": "stream",
     "text": [
      "Counter({'K5': 615, 'K3': 572, 'K7': 375, 'K1': 265, 'K0': 195, 'K4': 165, 'K2': 7})\n",
      "      0\n",
      "K3  572\n",
      "K2    7\n",
      "K1  265\n",
      "K0  195\n",
      "K7  375\n",
      "K5  615\n",
      "K4  165\n"
     ]
    },
    {
     "data": {
      "text/plain": [
       "<matplotlib.figure.Figure at 0xaca7e48>"
      ]
     },
     "metadata": {},
     "output_type": "display_data"
    },
    {
     "data": {
      "image/png": "[encoded data removed]",
      "text/plain": [
       "<matplotlib.figure.Figure at 0xaa5f5c0>"
      ]
     },
     "metadata": {},
     "output_type": "display_data"
    }
   ],
   "source": [
    "import os\n",
    "import pandas as pd\n",
    "import numpy as np\n",
    "from matplotlib import pyplot as plt\n",
    "from collections import Counter\n",
    "\n",
    "os.chdir(\"D:\\starspiritstorm\") # Change Directory\n",
    "\n",
    "#loading tables with Teff and Radius\n",
    "Parameter_file = 'K dwarf DR4 list.csv'\n",
    "Parameter_data = pd.read_csv(Parameter_file)\n",
    "\n",
    "letter_counts = Counter(Parameter_data['DR4 class'])\n",
    "print letter_counts\n",
    "\n",
    "df = pd.DataFrame.from_dict(letter_counts, orient='index')\n",
    "print df\n",
    "df.plot(kind='bar')\n",
    "plt.show()\n",
    "plt.clf()\n",
    "\n"
   ]
  },
  {
   "cell_type": "code",
   "execution_count": null,
   "metadata": {
    "collapsed": true
   },
   "outputs": [],
   "source": [
    "import os\n",
    "import pandas as pd\n",
    "import numpy as np\n",
    "from matplotlib import pyplot as plt\n",
    "from collections import Counter\n",
    "\n",
    "os.chdir(\"D:\\starspiritstorm\") # Change Directory\n",
    "\n",
    "#loading tables with Teff and Radius\n",
    "Parameter_file = 'Kepler M dwarf flare list 20161012.csv'\n",
    "Parameter_data = pd.read_csv(Parameter_file)\n",
    "\n",
    "letter_counts = Counter(Parameter_data['DR4 class'])\n",
    "print letter_counts\n",
    "\n",
    "df = pd.DataFrame.from_dict(letter_counts, orient='index')\n",
    "print df\n",
    "df.plot(kind='bar')\n",
    "plt.show()\n",
    "plt.clf()"
   ]
  }
 ],
 "metadata": {
  "kernelspec": {
   "display_name": "Python [conda root]",
   "language": "python",
   "name": "conda-root-py"
  },
  "language_info": {
   "codemirror_mode": {
    "name": "ipython",
    "version": 2
   },
   "file_extension": ".py",
   "mimetype": "text/x-python",
   "name": "python",
   "nbconvert_exporter": "python",
   "pygments_lexer": "ipython2",
   "version": "2.7.12"
  }
 },
 "nbformat": 4,
 "nbformat_minor": 1
}
