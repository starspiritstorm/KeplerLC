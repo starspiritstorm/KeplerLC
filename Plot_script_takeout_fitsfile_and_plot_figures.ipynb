{
 "cells": [
  {
   "cell_type": "code",
   "execution_count": 13,
   "metadata": {
    "collapsed": false,
    "scrolled": true
   },
   "outputs": [
    {
     "ename": "TypeError",
     "evalue": "exceptions must be old-style classes or derived from BaseException, not NoneType",
     "output_type": "error",
     "traceback": [
      "\u001b[0;31m---------------------------------------------------------------------------\u001b[0m",
      "\u001b[0;31mTypeError\u001b[0m                                 Traceback (most recent call last)",
      "\u001b[0;32m<ipython-input-13-8bd2428f2bb6>\u001b[0m in \u001b[0;36m<module>\u001b[0;34m()\u001b[0m\n\u001b[1;32m     38\u001b[0m     \u001b[0mout\u001b[0m\u001b[1;33m.\u001b[0m\u001b[0mclose\u001b[0m\u001b[1;33m(\u001b[0m\u001b[1;33m)\u001b[0m\u001b[1;33m\u001b[0m\u001b[0m\n\u001b[1;32m     39\u001b[0m \u001b[1;33m\u001b[0m\u001b[0m\n\u001b[0;32m---> 40\u001b[0;31m \u001b[1;32mraise\u001b[0m\u001b[1;33m\u001b[0m\u001b[0m\n\u001b[0m\u001b[1;32m     41\u001b[0m \u001b[1;31m#3 Read picked up data in .lc and Write in txt list (.lc)\u001b[0m\u001b[1;33m\u001b[0m\u001b[1;33m\u001b[0m\u001b[0m\n\u001b[1;32m     42\u001b[0m \u001b[0mfilenamelist\u001b[0m \u001b[1;33m=\u001b[0m \u001b[0mfilter\u001b[0m\u001b[1;33m(\u001b[0m\u001b[1;32mlambda\u001b[0m \u001b[0mx\u001b[0m\u001b[1;33m:\u001b[0m \u001b[0mx\u001b[0m\u001b[1;33m.\u001b[0m\u001b[0mendswith\u001b[0m\u001b[1;33m(\u001b[0m\u001b[1;34m'.lc'\u001b[0m\u001b[1;33m)\u001b[0m\u001b[1;33m,\u001b[0m \u001b[0mos\u001b[0m\u001b[1;33m.\u001b[0m\u001b[0mlistdir\u001b[0m\u001b[1;33m(\u001b[0m\u001b[0mnowpath\u001b[0m\u001b[1;33m)\u001b[0m\u001b[1;33m)\u001b[0m\u001b[1;33m\u001b[0m\u001b[0m\n",
      "\u001b[0;31mTypeError\u001b[0m: exceptions must be old-style classes or derived from BaseException, not NoneType"
     ]
    }
   ],
   "source": [
    "import pyfits, os, sys, matplotlib, pylab\n",
    "import numpy  as np\n",
    "from matplotlib import pyplot as plt\n",
    "\n",
    "#1 Read filename .fits\n",
    "os.chdir(\"D:\\starspiritstorm\\Course\\Meeting\\Kepler\\Kepler Revised Teff to 3800\\Hyperflare\\kplr009726699_SC\") # Change Directory\n",
    "nowpath = os.getcwd()\n",
    "\n",
    "filenamelist = filter(lambda x: x.endswith('.fits'), os.listdir(nowpath))\n",
    "    \n",
    "#1.5 Write Raw data file into txt list (.fits)\n",
    "writelist = [ i +'\\n' for i in filenamelist]\n",
    "\n",
    "with open('kplr009726699_SC_Fits_list.txt','w') as f:\n",
    "    map( f.write , writelist)\n",
    "    \n",
    "#2 Read needed file data\n",
    "Kepler = 'kplr009726699_SC_Fits_list.txt' \n",
    "LC_file = file(Kepler).readlines()\n",
    "\n",
    "\n",
    "for j in LC_file:\n",
    "    data=pyfits.open(j.replace('\\n',''))\n",
    "    time=data[1].data.field('TIME')\n",
    "    sap_flux=data[1].data.field('SAP_FLUX')\n",
    "    sap_flux_err=data[1].data.field('SAP_FLUX_ERR')\n",
    "    pdcsap_flux=data[1].data.field('PDCSAP_FLUX')\n",
    "    pdcsap_flux_err=data[1].data.field('PDCSAP_FLUX_ERR')\n",
    "    lc=zip(time,sap_flux,sap_flux_err,pdcsap_flux,pdcsap_flux_err)\n",
    "\n",
    "    output_file = j.replace('\\n','') + '.lc'\n",
    "\n",
    "#2.5 Write needed data into a new file .lc\n",
    "    out = open(output_file,'w')\n",
    "    for i in lc:\n",
    "        write = '%s %s %s %s %s' %(i[0],i[1],i[2],i[3],i[4])\n",
    "        out.write(write+'\\n')\n",
    "    out.close()\n",
    "\n",
    "#3 Read picked up data in .lc and Write in txt list (.lc) \n",
    "filenamelist = filter(lambda x: x.endswith('.lc'), os.listdir(nowpath))\n",
    "writelist = [ i +'\\n' for i in filenamelist]\n",
    "with open('kplr009726699_SC_list.txt','w') as f:\n",
    "    map( f.write , writelist)\n",
    "\n",
    "#3.5  Read txt list (.lc) by lines\n",
    "Kepler = 'kplr009726699_SC_list.txt' \n",
    "LC_file = file(Kepler).readlines()\n",
    "\n",
    "#4 Plot file in list\n",
    "for j in LC_file:\n",
    "    filej = open(j.replace('\\n',''))\n",
    "    data = np.loadtxt( filej , dtype={'names':('time', '2', '3','flux','5'), 'formats':('f4','f4','f4','f4','f4')})\n",
    "    masknan = -np.isnan(data['flux'])\n",
    "    time = data['time'][masknan]\n",
    "    normalized_flux = data['flux'][masknan]/np.mean(data['flux'][masknan])\n",
    "    plt.plot(time, normalized_flux)\n",
    "    plt.scatter(time, normalized_flux, marker='.')\n",
    "    plt.xlabel('Julian Day - 2454833(day)')\n",
    "    plt.ylabel('Normalized_flux')\n",
    "    plt.title('Max Flux = %s'%np.max(normalized_flux))\n",
    "    pylab.savefig('%s.png'%j.replace('.fits.lc\\n','_maxflux=%s'%str(np.max(normalized_flux))))\n",
    "    #plt.show()\n",
    "    plt.clf()\n",
    "\n",
    "\n",
    "\n"
   ]
  },
  {
   "cell_type": "code",
   "execution_count": 1,
   "metadata": {
    "collapsed": false
   },
   "outputs": [
    {
     "name": "stdout",
     "output_type": "stream",
     "text": [
      "C:\\Users\\starseeker\n"
     ]
    }
   ],
   "source": [
    "import os\n",
    "print os.getcwd()"
   ]
  },
  {
   "cell_type": "code",
   "execution_count": null,
   "metadata": {
    "collapsed": true
   },
   "outputs": [],
   "source": []
  }
 ],
 "metadata": {
  "kernelspec": {
   "display_name": "Python [conda root]",
   "language": "python",
   "name": "conda-root-py"
  },
  "language_info": {
   "codemirror_mode": {
    "name": "ipython",
    "version": 2
   },
   "file_extension": ".py",
   "mimetype": "text/x-python",
   "name": "python",
   "nbconvert_exporter": "python",
   "pygments_lexer": "ipython2",
   "version": "2.7.12"
  }
 },
 "nbformat": 4,
 "nbformat_minor": 1
}
