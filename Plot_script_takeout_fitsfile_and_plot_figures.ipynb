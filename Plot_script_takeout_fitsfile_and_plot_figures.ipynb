{
 "cells": [
  {
   "cell_type": "markdown",
   "metadata": {},
   "source": [
    "# Kepler 畫 Light curve"
   ]
  },
  {
   "cell_type": "code",
   "execution_count": null,
   "metadata": {
    "collapsed": true
   },
   "outputs": [],
   "source": [
    "import pyfits, os, sys, matplotlib, pylab\n",
    "import numpy  as np\n",
    "from matplotlib import pyplot as plt\n",
    "\n",
    "#1 Read filename .fits\n",
    "os.chdir(\"D:\\starspiritstorm\\Course\\Meeting\\Kepler\\Kepler Revised Teff to 3800\\Hyperflare\\kplr009726699_SC\") # Change Directory\n",
    "nowpath = os.getcwd()\n",
    "\n",
    "filenamelist = filter(lambda x: x.endswith('.fits'), os.listdir(nowpath))\n",
    "    \n",
    "#1.5 Write Raw data file into txt list (.fits)\n",
    "writelist = [ i +'\\n' for i in filenamelist]\n",
    "\n",
    "with open('kplr009726699_SC_Fits_list.txt','w') as f:\n",
    "    map( f.write , writelist)\n",
    "    \n",
    "#2 Read needed file data\n",
    "Kepler = 'kplr009726699_SC_Fits_list.txt' \n",
    "LC_file = file(Kepler).readlines()\n",
    "\n",
    "\n",
    "for j in LC_file:\n",
    "    data=pyfits.open(j.replace('\\n',''))\n",
    "    time=data[1].data.field('TIME')\n",
    "    sap_flux=data[1].data.field('SAP_FLUX')\n",
    "    sap_flux_err=data[1].data.field('SAP_FLUX_ERR')\n",
    "    pdcsap_flux=data[1].data.field('PDCSAP_FLUX')\n",
    "    pdcsap_flux_err=data[1].data.field('PDCSAP_FLUX_ERR')\n",
    "    lc=zip(time,sap_flux,sap_flux_err,pdcsap_flux,pdcsap_flux_err)\n",
    "\n",
    "    output_file = j.replace('\\n','') + '.lc'\n",
    "\n",
    "#2.5 Write needed data into a new file .lc\n",
    "    out = open(output_file,'w')\n",
    "    for i in lc:\n",
    "        write = '%s %s %s %s %s' %(i[0],i[1],i[2],i[3],i[4])\n",
    "        out.write(write+'\\n')\n",
    "    out.close()\n",
    "\n",
    "#3 Read picked up data in .lc and Write in txt list (.lc) \n",
    "filenamelist = filter(lambda x: x.endswith('.lc'), os.listdir(nowpath))\n",
    "writelist = [ i +'\\n' for i in filenamelist]\n",
    "with open('kplr009726699_SC_list.txt','w') as f:\n",
    "    map( f.write , writelist)\n",
    "\n",
    "#3.5  Read txt list (.lc) by lines\n",
    "Kepler = 'kplr009726699_SC_list.txt' \n",
    "LC_file = file(Kepler).readlines()\n",
    "\n",
    "#4 Plot file in list\n",
    "for j in LC_file:\n",
    "    filej = open(j.replace('\\n',''))\n",
    "    data = np.loadtxt( filej , dtype={'names':('time', '2', '3','flux','5'), 'formats':('f4','f4','f4','f4','f4')})\n",
    "    masknan = -np.isnan(data['flux'])\n",
    "    time = data['time'][masknan]\n",
    "    normalized_flux = data['flux'][masknan]/np.mean(data['flux'][masknan])\n",
    "    plt.plot(time, normalized_flux)\n",
    "    plt.scatter(time, normalized_flux, marker='.')\n",
    "    plt.xlabel('Julian Day - 2454833(day)')\n",
    "    plt.ylabel('Normalized_flux')\n",
    "    plt.title('Max Flux = %s'%np.max(normalized_flux))\n",
    "    pylab.savefig('%s.png'%j.replace('.fits.lc\\n','_maxflux=%s'%str(np.max(normalized_flux))))\n",
    "    #plt.show()\n",
    "    plt.clf()\n",
    "\n",
    "#test line\n",
    "\n",
    "\n"
   ]
  },
  {
   "cell_type": "markdown",
   "metadata": {},
   "source": [
    "## 說明\n",
    "\n",
    "1.aaa\n",
    "\n",
    "2.bbb\n"
   ]
  },
  {
   "cell_type": "code",
   "execution_count": null,
   "metadata": {
    "collapsed": true
   },
   "outputs": [],
   "source": []
  }
 ],
 "metadata": {
  "kernelspec": {
   "display_name": "Python [conda root]",
   "language": "python",
   "name": "conda-root-py"
  },
  "language_info": {
   "codemirror_mode": {
    "name": "ipython",
    "version": 2
   },
   "file_extension": ".py",
   "mimetype": "text/x-python",
   "name": "python",
   "nbconvert_exporter": "python",
   "pygments_lexer": "ipython2",
   "version": "2.7.12"
  }
 },
 "nbformat": 4,
 "nbformat_minor": 1
}
